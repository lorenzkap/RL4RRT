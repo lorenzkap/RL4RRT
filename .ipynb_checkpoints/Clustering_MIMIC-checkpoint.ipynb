{
 "cells": [
  {
   "cell_type": "code",
   "execution_count": 1,
   "id": "7e289f43-7da3-44bd-b144-b66e402eacfc",
   "metadata": {
    "tags": []
   },
   "outputs": [],
   "source": [
    "import numpy as np\n",
    "import pandas as pd\n",
    "\n",
    "import argparse\n",
    "import datetime as dte\n",
    "import os\n",
    "pd.set_option('display.max_columns', None)"
   ]
  },
  {
   "cell_type": "code",
   "execution_count": 2,
   "id": "846b6f4b-bdb9-4034-a85d-ef3bed6832c3",
   "metadata": {
    "tags": []
   },
   "outputs": [],
   "source": [
    "%load_ext autoreload\n",
    "%autoreload 2"
   ]
  },
  {
   "cell_type": "code",
   "execution_count": 3,
   "id": "d22129d2-3d42-4764-9013-ff3fe7e902a8",
   "metadata": {
    "scrolled": true,
    "tags": []
   },
   "outputs": [
    {
     "name": "stdout",
     "output_type": "stream",
     "text": [
      "*** Training from defined parameters for boston ***\n",
      "Loading & splitting data...\n"
     ]
    }
   ],
   "source": [
    "import medical_rl.libs.cluster as cluster\n",
    "import medical_rl.libs.envs as envs\n",
    "pd.set_option('display.max_columns', None)\n",
    "import medical_rl.libs.utils as utils\n",
    "import medical_rl.data_formatters.boston\n",
    "\n",
    "\n",
    "name, output_folder =  'boston', '/gpfs/data/fs71801/lkapral66/RL4RRT/RRT_mimic_iv/data/cluster'\n",
    "\n",
    "\n",
    "data_formatter = medical_rl.data_formatters.boston.BostonFormatter()\n",
    "\n",
    "expt_name=name\n",
    "\n",
    "\n",
    "\n",
    "if not isinstance(data_formatter, medical_rl.data_formatters.base.GenericDataFormatter):\n",
    "    raise ValueError(\n",
    "        \"Data formatters should inherit from\" +\n",
    "        \"AbstractDataFormatter! Type={}\".format(type(data_formatter)))\n",
    "\n",
    "\n",
    "\n",
    "print(\"*** Training from defined parameters for {} ***\".format(expt_name))\n",
    "\n",
    "print(\"Loading & splitting data...\")\n",
    "df = pd.read_parquet('/gpfs/data/fs71801/lkapral66/RL4RRT/RRT_mimic_iv/data/mimiciv/MIMIC_action.parquet')\n",
    "\n",
    "\n",
    "\n"
   ]
  },
  {
   "cell_type": "code",
   "execution_count": 4,
   "id": "a3513aac-bc24-4936-8aaa-e7d10e6ba0b1",
   "metadata": {},
   "outputs": [],
   "source": [
    "number_of_clusters = 750\n",
    "n_init = 'auto'\n",
    "seed=42"
   ]
  },
  {
   "cell_type": "code",
   "execution_count": 16,
   "id": "96e39947-0ca8-4c65-8d99-037b3f58ecf9",
   "metadata": {},
   "outputs": [
    {
     "data": {
      "text/plain": [
       "3998"
      ]
     },
     "execution_count": 16,
     "metadata": {},
     "output_type": "execute_result"
    }
   ],
   "source": [
    "len(df[df['action']>=1]['icustayid'].unique())"
   ]
  },
  {
   "cell_type": "code",
   "execution_count": 17,
   "id": "3523348e-c2b9-4920-819f-c0f2b00f5ed6",
   "metadata": {
    "tags": []
   },
   "outputs": [
    {
     "data": {
      "text/plain": [
       "70080"
      ]
     },
     "execution_count": 17,
     "metadata": {},
     "output_type": "execute_result"
    }
   ],
   "source": [
    "len(df['icustayid'].unique())"
   ]
  },
  {
   "cell_type": "code",
   "execution_count": 5,
   "id": "d031da00-0f06-46d2-aa2f-a7d2605dbcb6",
   "metadata": {
    "tags": []
   },
   "outputs": [],
   "source": [
    "import medical_rl.libs.cluster as cluster\n",
    "import medical_rl.libs.envs as envs"
   ]
  },
  {
   "cell_type": "code",
   "execution_count": 6,
   "id": "2467df89-2abb-4cd2-a115-912c9d1fd8b6",
   "metadata": {},
   "outputs": [],
   "source": [
    "#data_formatter.save_random_splits(df, 5, output_folder, train_size=0.7, valid_size=0.1, test_size=0.2)"
   ]
  },
  {
   "cell_type": "code",
   "execution_count": 9,
   "id": "12a9b2dd-6e1d-4148-b813-db6613469e76",
   "metadata": {
    "scrolled": true,
    "tags": []
   },
   "outputs": [],
   "source": [
    "train, valid, test, bounds = data_formatter.load_random_split_and_bounds(output_folder, 42, train_size=0.7, valid_size=0.1, test_size=0.2, parse_bounds=False)"
   ]
  },
  {
   "cell_type": "code",
   "execution_count": 10,
   "id": "f91ccc35-6e70-43f9-b35f-d6afba33ff15",
   "metadata": {},
   "outputs": [
    {
     "data": {
      "text/plain": [
       "['icustayid',\n",
       " 'bloc',\n",
       " 'extubated',\n",
       " 'max_dose_vaso',\n",
       " 'age',\n",
       " 'Height_cm',\n",
       " 'Weight_kg',\n",
       " 'MeanBP',\n",
       " 'Potassium',\n",
       " 'Arterial_pH',\n",
       " 'paO2',\n",
       " 'Arterial_BE',\n",
       " 'Arterial_lactate',\n",
       " 'SvO2',\n",
       " 'Anion_Gap',\n",
       " 'Absolute_Neutrophil_Count',\n",
       " 'SOFA',\n",
       " 'cumulated_balance',\n",
       " 'Sodium_Urine',\n",
       " 'BUN',\n",
       " 'Creatinine',\n",
       " 'CRP',\n",
       " 'output_total',\n",
       " 'input_total',\n",
       " 'input_step',\n",
       " 'output_step',\n",
       " 'gender',\n",
       " 'action',\n",
       " 'morta_90']"
      ]
     },
     "execution_count": 10,
     "metadata": {},
     "output_type": "execute_result"
    }
   ],
   "source": [
    "list(test.columns)"
   ]
  },
  {
   "cell_type": "code",
   "execution_count": 13,
   "id": "ea1402ec-f833-44e3-a2bd-bb91effdb4a2",
   "metadata": {},
   "outputs": [],
   "source": [
    "obs_column_labels = [\n",
    " 'extubated',\n",
    " 'max_dose_vaso',\n",
    " 'age',\n",
    " 'Height_cm',\n",
    " 'Weight_kg',\n",
    " 'MeanBP',\n",
    " 'Potassium',\n",
    " 'Arterial_pH',\n",
    " 'paO2',\n",
    " 'Arterial_BE',\n",
    " 'Arterial_lactate',\n",
    " 'SvO2',\n",
    " 'Anion_Gap',\n",
    " 'Absolute_Neutrophil_Count',\n",
    " 'SOFA',\n",
    " 'cumulated_balance',\n",
    " 'Sodium_Urine',\n",
    " 'BUN',\n",
    " 'Creatinine',\n",
    " 'CRP',\n",
    " 'output_total',\n",
    " 'input_total',\n",
    " 'input_step',\n",
    " 'output_step',\n",
    " 'gender']"
   ]
  },
  {
   "cell_type": "code",
   "execution_count": 14,
   "id": "ab6bb74a-cce5-414a-837d-7ec60b108320",
   "metadata": {},
   "outputs": [],
   "source": [
    "def get_column_labels():\n",
    "    return {\n",
    "        \"id\": \"icustayid\",\n",
    "        \"t\":  \"bloc\",\n",
    "        \"obs\": obs_column_labels,\n",
    "        \"act\": \"action\",\n",
    "        \"rew\": \"morta_90\",}\n"
   ]
  },
  {
   "cell_type": "code",
   "execution_count": null,
   "id": "8dd706cc-bbf0-4e3c-a5c4-df4180ee8cf9",
   "metadata": {},
   "outputs": [],
   "source": []
  },
  {
   "cell_type": "code",
   "execution_count": 15,
   "id": "4dee410c-5e95-4538-9182-0f91afad74c4",
   "metadata": {},
   "outputs": [],
   "source": [
    "column_labels = get_column_labels()"
   ]
  },
  {
   "cell_type": "code",
   "execution_count": 16,
   "id": "bc76fc73-9c56-423f-acf9-bf860b96fd19",
   "metadata": {},
   "outputs": [
    {
     "name": "stdout",
     "output_type": "stream",
     "text": [
      "Trying to load /gpfs/data/fs71801/lkapral66/RL4RRT/RRT_mimic_iv/data/cluster/kmeans_model.pkl\n"
     ]
    }
   ],
   "source": [
    "\n",
    "from medical_rl.libs.cluster import get_data_clustered_completed\n",
    "\n",
    "train_clustered = get_data_clustered_completed(\n",
    "    data=train, column_labels=column_labels,\n",
    "    n_clusters=number_of_clusters, n_init=n_init, seed=seed, path=output_folder,\n",
    ")\n"
   ]
  },
  {
   "cell_type": "code",
   "execution_count": 17,
   "id": "8a9641c2-38e2-4aa8-8738-f9079877db8e",
   "metadata": {},
   "outputs": [
    {
     "name": "stdout",
     "output_type": "stream",
     "text": [
      "Trying to load /gpfs/data/fs71801/lkapral66/RL4RRT/RRT_mimic_iv/data/cluster/kmeans_model.pkl\n"
     ]
    }
   ],
   "source": [
    "\n",
    "\n",
    "test_clustered = get_data_clustered_completed(\n",
    "    data=test, column_labels=column_labels,\n",
    "    n_clusters=number_of_clusters, n_init=n_init, seed=seed, path=output_folder,\n",
    ")\n"
   ]
  },
  {
   "cell_type": "code",
   "execution_count": 19,
   "id": "687e9d15-bfce-4b9c-ab3e-cfd1db5283b1",
   "metadata": {},
   "outputs": [
    {
     "data": {
      "text/html": [
       "<div>\n",
       "<style scoped>\n",
       "    .dataframe tbody tr th:only-of-type {\n",
       "        vertical-align: middle;\n",
       "    }\n",
       "\n",
       "    .dataframe tbody tr th {\n",
       "        vertical-align: top;\n",
       "    }\n",
       "\n",
       "    .dataframe thead th {\n",
       "        text-align: right;\n",
       "    }\n",
       "</style>\n",
       "<table border=\"1\" class=\"dataframe\">\n",
       "  <thead>\n",
       "    <tr style=\"text-align: right;\">\n",
       "      <th></th>\n",
       "      <th>id</th>\n",
       "      <th>t</th>\n",
       "      <th>obs</th>\n",
       "      <th>act</th>\n",
       "      <th>rew</th>\n",
       "    </tr>\n",
       "  </thead>\n",
       "  <tbody>\n",
       "    <tr>\n",
       "      <th>0</th>\n",
       "      <td>30003226</td>\n",
       "      <td>1</td>\n",
       "      <td>549</td>\n",
       "      <td>0</td>\n",
       "      <td>0</td>\n",
       "    </tr>\n",
       "    <tr>\n",
       "      <th>1</th>\n",
       "      <td>30003226</td>\n",
       "      <td>2</td>\n",
       "      <td>711</td>\n",
       "      <td>0</td>\n",
       "      <td>0</td>\n",
       "    </tr>\n",
       "    <tr>\n",
       "      <th>2</th>\n",
       "      <td>30003226</td>\n",
       "      <td>3</td>\n",
       "      <td>223</td>\n",
       "      <td>0</td>\n",
       "      <td>0</td>\n",
       "    </tr>\n",
       "    <tr>\n",
       "      <th>3</th>\n",
       "      <td>30003226</td>\n",
       "      <td>4</td>\n",
       "      <td>223</td>\n",
       "      <td>0</td>\n",
       "      <td>0</td>\n",
       "    </tr>\n",
       "    <tr>\n",
       "      <th>4</th>\n",
       "      <td>30003226</td>\n",
       "      <td>5</td>\n",
       "      <td>711</td>\n",
       "      <td>1</td>\n",
       "      <td>0</td>\n",
       "    </tr>\n",
       "    <tr>\n",
       "      <th>...</th>\n",
       "      <td>...</td>\n",
       "      <td>...</td>\n",
       "      <td>...</td>\n",
       "      <td>...</td>\n",
       "      <td>...</td>\n",
       "    </tr>\n",
       "    <tr>\n",
       "      <th>51821</th>\n",
       "      <td>37148034</td>\n",
       "      <td>2</td>\n",
       "      <td>139</td>\n",
       "      <td>0</td>\n",
       "      <td>0</td>\n",
       "    </tr>\n",
       "    <tr>\n",
       "      <th>51822</th>\n",
       "      <td>37148034</td>\n",
       "      <td>3</td>\n",
       "      <td>246</td>\n",
       "      <td>0</td>\n",
       "      <td>0</td>\n",
       "    </tr>\n",
       "    <tr>\n",
       "      <th>51823</th>\n",
       "      <td>37148034</td>\n",
       "      <td>4</td>\n",
       "      <td>246</td>\n",
       "      <td>0</td>\n",
       "      <td>0</td>\n",
       "    </tr>\n",
       "    <tr>\n",
       "      <th>51824</th>\n",
       "      <td>37148034</td>\n",
       "      <td>5</td>\n",
       "      <td>246</td>\n",
       "      <td>0</td>\n",
       "      <td>0</td>\n",
       "    </tr>\n",
       "    <tr>\n",
       "      <th>51825</th>\n",
       "      <td>37148034</td>\n",
       "      <td>6</td>\n",
       "      <td>750</td>\n",
       "      <td>4</td>\n",
       "      <td>0</td>\n",
       "    </tr>\n",
       "  </tbody>\n",
       "</table>\n",
       "<p>51826 rows × 5 columns</p>\n",
       "</div>"
      ],
      "text/plain": [
       "             id  t  obs  act  rew\n",
       "0      30003226  1  549    0    0\n",
       "1      30003226  2  711    0    0\n",
       "2      30003226  3  223    0    0\n",
       "3      30003226  4  223    0    0\n",
       "4      30003226  5  711    1    0\n",
       "...         ... ..  ...  ...  ...\n",
       "51821  37148034  2  139    0    0\n",
       "51822  37148034  3  246    0    0\n",
       "51823  37148034  4  246    0    0\n",
       "51824  37148034  5  246    0    0\n",
       "51825  37148034  6  750    4    0\n",
       "\n",
       "[51826 rows x 5 columns]"
      ]
     },
     "execution_count": 19,
     "metadata": {},
     "output_type": "execute_result"
    }
   ],
   "source": [
    "test_clustered"
   ]
  },
  {
   "cell_type": "code",
   "execution_count": 20,
   "id": "eba5438f-adc4-4b89-8460-f09f40fb56b5",
   "metadata": {},
   "outputs": [],
   "source": [
    "env, action_mask = envs.get_env(number_of_clusters, train_clustered, n_act=2)\n"
   ]
  },
  {
   "cell_type": "code",
   "execution_count": 32,
   "id": "fe186c7a-bb60-4caa-baa7-4382ede05570",
   "metadata": {},
   "outputs": [
    {
     "data": {
      "text/plain": [
       "(750, 0, True, False, {'absorbing': True})"
      ]
     },
     "execution_count": 32,
     "metadata": {},
     "output_type": "execute_result"
    }
   ],
   "source": [
    "env.step(0)"
   ]
  },
  {
   "cell_type": "code",
   "execution_count": 22,
   "id": "d012c8e9-980c-4662-bd12-71a0c42b3a87",
   "metadata": {},
   "outputs": [],
   "source": [
    "from sb3_contrib import MaskablePPO"
   ]
  },
  {
   "cell_type": "code",
   "execution_count": 24,
   "id": "b06b2e01-c25c-49a9-bdac-1592ac4a009f",
   "metadata": {},
   "outputs": [],
   "source": [
    "\n",
    "def load_or_create_model(\n",
    "        model_type,\n",
    "        model_dir, env=None, total_timesteps=None):\n",
    "\n",
    "    try:\n",
    "        print(\"Try loading model\", model_dir)\n",
    "        model = model_type.load(model_dir)\n",
    "\n",
    "    except KeyboardInterrupt:\n",
    "        print(\"KeyboardInterrupt\")\n",
    "        assert False\n",
    "\n",
    "    except:\n",
    "        assert env is not None\n",
    "        assert total_timesteps is not None\n",
    "\n",
    "        print(); print(f\"No model found in {model_dir}\")\n",
    "\n",
    "        model = model_type(\"MlpPolicy\", env, verbose=1)\n",
    "\n",
    "        model.learn(total_timesteps=total_timesteps, tb_log_name=\"ppo_run\")\n",
    "        model.save(model_dir)\n",
    "\n",
    "    return model\n",
    "\n",
    "def load_or_create_model_MaskablePPO(model_dir, env=None, total_timesteps=None):\n",
    "    return load_or_create_model(MaskablePPO, model_dir, env, total_timesteps)\n"
   ]
  },
  {
   "cell_type": "code",
   "execution_count": 25,
   "id": "b9eb1149-8a04-4427-8409-a1ad504df12b",
   "metadata": {},
   "outputs": [],
   "source": [
    "model_path = os.path.join(output_folder, 'ppo.zip')"
   ]
  },
  {
   "cell_type": "code",
   "execution_count": null,
   "id": "39476a87-036f-4070-b294-6896f3a7f7bb",
   "metadata": {
    "scrolled": true,
    "tags": []
   },
   "outputs": [],
   "source": [
    "model = load_or_create_model(MaskablePPO, model_path, env, 100000)"
   ]
  },
  {
   "cell_type": "code",
   "execution_count": null,
   "id": "0a362002-4031-4efd-b30d-6189d37b88dd",
   "metadata": {},
   "outputs": [],
   "source": [
    "output_folder"
   ]
  },
  {
   "cell_type": "code",
   "execution_count": null,
   "id": "1e16c0fb-3c58-4cf8-8ece-cd4ec86c6f39",
   "metadata": {},
   "outputs": [],
   "source": []
  }
 ],
 "metadata": {
  "kernelspec": {
   "display_name": "Python 3 (ipykernel)",
   "language": "python",
   "name": "python3"
  },
  "language_info": {
   "codemirror_mode": {
    "name": "ipython",
    "version": 3
   },
   "file_extension": ".py",
   "mimetype": "text/x-python",
   "name": "python",
   "nbconvert_exporter": "python",
   "pygments_lexer": "ipython3",
   "version": "3.11.10"
  }
 },
 "nbformat": 4,
 "nbformat_minor": 5
}
