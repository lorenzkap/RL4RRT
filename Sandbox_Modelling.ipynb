{
 "cells": [
  {
   "cell_type": "code",
   "execution_count": 1,
   "id": "d4c1ccd7-9b51-4073-b7e1-06a669b6b9c1",
   "metadata": {},
   "outputs": [],
   "source": [
    "import numpy as np \n",
    "import pandas as pd \n",
    "import tqdm \n",
    "import argparse \n",
    "import os \n",
    "import shutil \n",
    "from ai_clinician.preprocessing.utils import load_csv \n",
    "from ai_clinician.preprocessing.columns import * \n",
    "from ai_clinician.modeling.models.komorowski_model import AIClinicianModel \n",
    "from ai_clinician.modeling.models.common import * \n",
    "from ai_clinician.modeling.models.dqn import DuelingDQNModel \n",
    "from ai_clinician.modeling.columns import C_OUTCOME \n",
    "import pickle \n",
    "from sklearn.model_selection import train_test_split\n",
    "pd.set_option('display.max_columns', None)\n",
    "tqdm.tqdm.pandas()"
   ]
  },
  {
   "cell_type": "code",
   "execution_count": null,
   "id": "c4c1bf75-773a-44c8-828e-5e6685f5e479",
   "metadata": {},
   "outputs": [],
   "source": [
    "main_path = '/home/lkapral/RRT_mimic_iv' "
   ]
  },
  {
   "cell_type": "code",
   "execution_count": 3,
   "id": "c25d1e6a-3924-4dfd-978b-7ce95301b961",
   "metadata": {
    "tags": []
   },
   "outputs": [],
   "source": [
    "df = pd.read_csv(main_path='/data/mimic/mimic_dataset.csv')"
   ]
  },
  {
   "cell_type": "code",
   "execution_count": 4,
   "id": "8fd2600c-f301-400b-aee0-0445ff47c8fd",
   "metadata": {},
   "outputs": [],
   "source": [
    "import argparse\n",
    "import os\n",
    "import shutil\n",
    "import pandas as pd\n",
    "\n",
    "def create_args():\n",
    "    parser = argparse.ArgumentParser(description='Simulate command-line argument parsing in Jupyter notebook.')\n",
    "    parser.add_argument('data', type=str,\n",
    "                        help='Model data directory (should contain train and test directories)')\n",
    "    parser.add_argument('--worker-label', dest='worker_label', type=str, default='',\n",
    "                        help='Label to suffix output files')\n",
    "    parser.add_argument('--save', dest='save_behavior', type=str, default='best',\n",
    "                        help='Models to save (best [default], all, none)')\n",
    "    parser.add_argument('--val-size', dest='val_size', type=float, default=0.2,\n",
    "                        help='Proportion of data to use for validation')\n",
    "    parser.add_argument('--n-models', dest='n_models', type=int, default=500,\n",
    "                        help='Number of models to build')\n",
    "    parser.add_argument('--model-type', dest='model_type', type=str, default='AIClinician',\n",
    "                        help='Model type to train (AIClinician or DuelingDQN)')\n",
    "    parser.add_argument('--cluster-fraction', dest='cluster_fraction', type=float, default=0.25,\n",
    "                        help='Fraction of patient states to sample for state clustering')\n",
    "    parser.add_argument('--n-cluster-init', dest='n_cluster_init', type=int, default=32,\n",
    "                        help='Number of cluster initializations to try in each replicate')\n",
    "    parser.add_argument('--n-cluster-states', dest='n_cluster_states', type=int, default=500,\n",
    "                        help='Number of states to define through clustering')\n",
    "    parser.add_argument('--n-action-bins', dest='n_action_bins', type=int, default=5,\n",
    "                        help='Number of action bins for fluids and vasopressors')\n",
    "    parser.add_argument('--reward', dest='reward', type=int, default=100,\n",
    "                        help='Value to assign as positive reward if discharged from hospital, or negative reward if died')\n",
    "    parser.add_argument('--transition-threshold', dest='transition_threshold', type=int, default=5,\n",
    "                        help='Prune state-action pairs with less than this number of occurrences in training data')\n",
    "    parser.add_argument('--gamma', dest='gamma', type=float, default=0.99,\n",
    "                        help='Decay for reward values (default 0.99)')\n",
    "    parser.add_argument('--soften-factor', dest='soften_factor', type=float, default=0.01,\n",
    "                        help='Amount by which to soften factors (random actions will be chosen this proportion of the time)')\n",
    "    parser.add_argument('--num-iter-ql', dest='num_iter_ql', type=int, default=6,\n",
    "                        help='Number of bootstrappings to use for TD learning (physician policy)')\n",
    "    parser.add_argument('--num-iter-wis', dest='num_iter_wis', type=int, default=700,\n",
    "                        help='Number of bootstrappings to use for WIS estimation (AI policy)')\n",
    "    parser.add_argument('--state-dim', dest='state_dim', type=int, default=256,\n",
    "                        help='Dimension for learned state representation in DQN')\n",
    "    parser.add_argument('--hidden-dim', dest='hidden_dim', type=int, default=128,\n",
    "                        help='Number of units in hidden layer for DQN')\n",
    "\n",
    "    simulated_input = '--n-models 500 --model-type AIClinician --n-action-bins 2 --val-size 0.2'.split()\n",
    "    simulated_input.insert(0, main_path+'/data/model')\n",
    "    return parser.parse_args(simulated_input)\n",
    "\n",
    "\n",
    "args = create_args()\n",
    "\n",
    "data_dir = args.data\n",
    "worker_label = args.worker_label\n",
    "n_models = args.n_models\n",
    "model_type = args.model_type\n",
    "n_action_bins = args.n_action_bins\n",
    "fixed_num_features = 40\n",
    "\n",
    "MIMICraw = pd.read_csv(os.path.join(data_dir, \"train\", \"MIMICraw.csv\"))\n",
    "MIMICzs = pd.read_csv(os.path.join(data_dir, \"train\", \"MIMICzs.csv\"))\n",
    "metadata = pd.read_csv(os.path.join(data_dir, \"train\", \"metadata.csv\"))\n",
    "unique_icu_stays = metadata['icustayid'].unique()\n"
   ]
  },
  {
   "cell_type": "code",
   "execution_count": 5,
   "id": "3f027ac2-74ca-4f06-8462-9c03d49d5412",
   "metadata": {},
   "outputs": [],
   "source": [
    "feature_importance = pd.read_csv(main_path+'/data/model/combined_feature_importances.csv')\n",
    "\n",
    "weights = feature_importance.head(fixed_num_features)['Combined_Average'].values\n",
    "feature_weights = weights / np.linalg.norm(weights)"
   ]
  },
  {
   "cell_type": "code",
   "execution_count": 6,
   "id": "c2a986f5-0400-486e-afae-26ff94f73287",
   "metadata": {},
   "outputs": [],
   "source": [
    "reduced_features = feature_importance.head(fixed_num_features)['Feature'].tolist()"
   ]
  },
  {
   "cell_type": "code",
   "execution_count": 10,
   "id": "d7634b47-1353-4836-9bf9-721403ef791a",
   "metadata": {},
   "outputs": [
    {
     "name": "stdout",
     "output_type": "stream",
     "text": [
      "Create actions\n"
     ]
    },
    {
     "data": {
      "text/plain": [
       "{'divide': 'warn', 'over': 'warn', 'under': 'ignore', 'invalid': 'warn'}"
      ]
     },
     "execution_count": 10,
     "metadata": {},
     "output_type": "execute_result"
    }
   ],
   "source": [
    "print(\"Create actions\")\n",
    "\n",
    "rrt_cols = [\n",
    "    'Ultrafiltrate_Output',\n",
    "    'Blood_Flow',\n",
    "    'Hourly_Patient_Fluid_Removal',\n",
    "    'Dialysate_Rate',\n",
    "    'Hemodialysis_Output',\n",
    "    'Citrate',\n",
    "    'Prefilter_Replacement_Rate',\n",
    "    'Postfilter_Replacement_Rate'\n",
    "]\n",
    "\n",
    "rrt_actions = (~MIMICraw[rrt_cols].isna() & (MIMICraw[rrt_cols] != 0)).any(axis=1)\n",
    "MIMICraw['action'] = rrt_actions.astype(int)\n",
    "\n",
    "n_actions = 2 \n",
    "\n",
    "def fit_action_bins_binary(actions):\n",
    "    action_medians = np.array([0, 1])\n",
    "    action_bins = np.array([0, 0.5, 1])\n",
    "    all_actions = actions.values\n",
    "    return all_actions, action_medians, action_bins\n",
    "\n",
    "all_actions, action_medians, action_bins = fit_action_bins_binary(MIMICraw['action'])\n",
    "\n",
    "model_type = args.model_type\n",
    "np.seterr(divide='ignore', invalid='ignore')"
   ]
  },
  {
   "cell_type": "code",
   "execution_count": 11,
   "id": "4c2f35b5-3034-4398-a714-c1bcf632f8a9",
   "metadata": {},
   "outputs": [],
   "source": [
    "MIMICraw['RRT'] = MIMICraw['action']\n",
    "MIMICzs['RRT'] = MIMICraw['action']"
   ]
  },
  {
   "cell_type": "code",
   "execution_count": 12,
   "id": "05b3afe2-2e5c-49cf-8bfe-e4cce12de00d",
   "metadata": {},
   "outputs": [],
   "source": [
    "MIMICzs = MIMICzs[reduced_features+ ['RRT']]\n",
    "MIMICraw = MIMICraw[reduced_features + ['action']]\n",
    "feature_weights = np.append(feature_weights,1)"
   ]
  },
  {
   "cell_type": "code",
   "execution_count": 13,
   "id": "b0984362-588e-46ff-86be-f3a2d56a4cf1",
   "metadata": {},
   "outputs": [
    {
     "name": "stderr",
     "output_type": "stream",
     "text": [
      "/tmp/ipykernel_2355364/2236096699.py:1: SettingWithCopyWarning: \n",
      "A value is trying to be set on a copy of a slice from a DataFrame.\n",
      "Try using .loc[row_indexer,col_indexer] = value instead\n",
      "\n",
      "See the caveats in the documentation: https://pandas.pydata.org/pandas-docs/stable/user_guide/indexing.html#returning-a-view-versus-a-copy\n",
      "  MIMICraw['icustayid'] = metadata['icustayid']\n"
     ]
    },
    {
     "data": {
      "text/plain": [
       "1457"
      ]
     },
     "execution_count": 13,
     "metadata": {},
     "output_type": "execute_result"
    }
   ],
   "source": [
    "MIMICraw['icustayid'] = metadata['icustayid']\n",
    "len(MIMICraw[MIMICraw['action']>0]['icustayid'].unique())"
   ]
  },
  {
   "cell_type": "code",
   "execution_count": null,
   "id": "1fdacbd0-dc9f-4f37-8440-48589c19c383",
   "metadata": {
    "scrolled": true
   },
   "outputs": [
    {
     "name": "stderr",
     "output_type": "stream",
     "text": [
      "/home/lkapral/RRT_mimic_iv/ai_clinician/modeling/models/common.py:142: RuntimeWarning: invalid value encountered in divide\n",
      "  transitionr = np.nan_to_num(np.where(transitionr > 0, transitionr / action_counts, 0))\n",
      "/home/lkapral/RRT_mimic_iv/ai_clinician/modeling/models/common.py:143: RuntimeWarning: invalid value encountered in divide\n",
      "  physpol = np.nan_to_num(action_counts / action_counts.sum(axis=1, keepdims=True))\n",
      "/home/lkapral/RRT_mimic_iv/ai_clinician/modeling/models/common.py:142: RuntimeWarning: invalid value encountered in divide\n",
      "  transitionr = np.nan_to_num(np.where(transitionr > 0, transitionr / action_counts, 0))\n",
      "/home/lkapral/RRT_mimic_iv/ai_clinician/modeling/models/common.py:143: RuntimeWarning: invalid value encountered in divide\n",
      "  physpol = np.nan_to_num(action_counts / action_counts.sum(axis=1, keepdims=True))\n",
      "/home/lkapral/RRT_mimic_iv/ai_clinician/modeling/models/common.py:142: RuntimeWarning: invalid value encountered in divide\n",
      "  transitionr = np.nan_to_num(np.where(transitionr > 0, transitionr / action_counts, 0))\n",
      "/home/lkapral/RRT_mimic_iv/ai_clinician/modeling/models/common.py:143: RuntimeWarning: invalid value encountered in divide\n",
      "  physpol = np.nan_to_num(action_counts / action_counts.sum(axis=1, keepdims=True))\n",
      "/home/lkapral/RRT_mimic_iv/ai_clinician/modeling/models/common.py:142: RuntimeWarning: invalid value encountered in divide\n",
      "  transitionr = np.nan_to_num(np.where(transitionr > 0, transitionr / action_counts, 0))\n",
      "/home/lkapral/RRT_mimic_iv/ai_clinician/modeling/models/common.py:143: RuntimeWarning: invalid value encountered in divide\n",
      "  physpol = np.nan_to_num(action_counts / action_counts.sum(axis=1, keepdims=True))\n",
      "/home/lkapral/RRT_mimic_iv/ai_clinician/modeling/models/common.py:142: RuntimeWarning: invalid value encountered in divide\n",
      "  transitionr = np.nan_to_num(np.where(transitionr > 0, transitionr / action_counts, 0))\n",
      "/home/lkapral/RRT_mimic_iv/ai_clinician/modeling/models/common.py:143: RuntimeWarning: invalid value encountered in divide\n",
      "  physpol = np.nan_to_num(action_counts / action_counts.sum(axis=1, keepdims=True))\n",
      "/home/lkapral/RRT_mimic_iv/ai_clinician/modeling/models/common.py:142: RuntimeWarning: invalid value encountered in divide\n",
      "  transitionr = np.nan_to_num(np.where(transitionr > 0, transitionr / action_counts, 0))\n",
      "/home/lkapral/RRT_mimic_iv/ai_clinician/modeling/models/common.py:143: RuntimeWarning: invalid value encountered in divide\n",
      "  physpol = np.nan_to_num(action_counts / action_counts.sum(axis=1, keepdims=True))\n",
      "/home/lkapral/RRT_mimic_iv/ai_clinician/modeling/models/common.py:142: RuntimeWarning: invalid value encountered in divide\n",
      "  transitionr = np.nan_to_num(np.where(transitionr > 0, transitionr / action_counts, 0))\n",
      "/home/lkapral/RRT_mimic_iv/ai_clinician/modeling/models/common.py:143: RuntimeWarning: invalid value encountered in divide\n",
      "  physpol = np.nan_to_num(action_counts / action_counts.sum(axis=1, keepdims=True))\n",
      "/home/lkapral/RRT_mimic_iv/ai_clinician/modeling/models/common.py:142: RuntimeWarning: invalid value encountered in divide\n",
      "  transitionr = np.nan_to_num(np.where(transitionr > 0, transitionr / action_counts, 0))\n",
      "/home/lkapral/RRT_mimic_iv/ai_clinician/modeling/models/common.py:143: RuntimeWarning: invalid value encountered in divide\n",
      "  physpol = np.nan_to_num(action_counts / action_counts.sum(axis=1, keepdims=True))\n",
      "/home/lkapral/RRT_mimic_iv/ai_clinician/modeling/models/common.py:142: RuntimeWarning: invalid value encountered in divide\n",
      "  transitionr = np.nan_to_num(np.where(transitionr > 0, transitionr / action_counts, 0))\n",
      "/home/lkapral/RRT_mimic_iv/ai_clinician/modeling/models/common.py:143: RuntimeWarning: invalid value encountered in divide\n",
      "  physpol = np.nan_to_num(action_counts / action_counts.sum(axis=1, keepdims=True))\n",
      "/home/lkapral/RRT_mimic_iv/ai_clinician/modeling/models/common.py:142: RuntimeWarning: invalid value encountered in divide\n",
      "  transitionr = np.nan_to_num(np.where(transitionr > 0, transitionr / action_counts, 0))\n",
      "/home/lkapral/RRT_mimic_iv/ai_clinician/modeling/models/common.py:143: RuntimeWarning: invalid value encountered in divide\n",
      "  physpol = np.nan_to_num(action_counts / action_counts.sum(axis=1, keepdims=True))\n",
      "/home/lkapral/RRT_mimic_iv/ai_clinician/modeling/models/common.py:142: RuntimeWarning: invalid value encountered in divide\n",
      "  transitionr = np.nan_to_num(np.where(transitionr > 0, transitionr / action_counts, 0))\n",
      "/home/lkapral/RRT_mimic_iv/ai_clinician/modeling/models/common.py:143: RuntimeWarning: invalid value encountered in divide\n",
      "  physpol = np.nan_to_num(action_counts / action_counts.sum(axis=1, keepdims=True))\n",
      "/home/lkapral/RRT_mimic_iv/ai_clinician/modeling/models/common.py:142: RuntimeWarning: invalid value encountered in divide\n",
      "  transitionr = np.nan_to_num(np.where(transitionr > 0, transitionr / action_counts, 0))\n",
      "/home/lkapral/RRT_mimic_iv/ai_clinician/modeling/models/common.py:143: RuntimeWarning: invalid value encountered in divide\n",
      "  physpol = np.nan_to_num(action_counts / action_counts.sum(axis=1, keepdims=True))\n",
      "/home/lkapral/RRT_mimic_iv/ai_clinician/modeling/models/common.py:142: RuntimeWarning: invalid value encountered in divide\n",
      "  transitionr = np.nan_to_num(np.where(transitionr > 0, transitionr / action_counts, 0))\n",
      "/home/lkapral/RRT_mimic_iv/ai_clinician/modeling/models/common.py:143: RuntimeWarning: invalid value encountered in divide\n",
      "  physpol = np.nan_to_num(action_counts / action_counts.sum(axis=1, keepdims=True))\n",
      "/home/lkapral/RRT_mimic_iv/ai_clinician/modeling/models/common.py:142: RuntimeWarning: invalid value encountered in divide\n",
      "  transitionr = np.nan_to_num(np.where(transitionr > 0, transitionr / action_counts, 0))\n",
      "/home/lkapral/RRT_mimic_iv/ai_clinician/modeling/models/common.py:143: RuntimeWarning: invalid value encountered in divide\n",
      "  physpol = np.nan_to_num(action_counts / action_counts.sum(axis=1, keepdims=True))\n",
      "/home/lkapral/RRT_mimic_iv/ai_clinician/modeling/models/common.py:142: RuntimeWarning: invalid value encountered in divide\n",
      "  transitionr = np.nan_to_num(np.where(transitionr > 0, transitionr / action_counts, 0))\n",
      "/home/lkapral/RRT_mimic_iv/ai_clinician/modeling/models/common.py:143: RuntimeWarning: invalid value encountered in divide\n",
      "  physpol = np.nan_to_num(action_counts / action_counts.sum(axis=1, keepdims=True))\n",
      "/home/lkapral/RRT_mimic_iv/ai_clinician/modeling/models/common.py:142: RuntimeWarning: invalid value encountered in divide\n",
      "  transitionr = np.nan_to_num(np.where(transitionr > 0, transitionr / action_counts, 0))\n",
      "/home/lkapral/RRT_mimic_iv/ai_clinician/modeling/models/common.py:143: RuntimeWarning: invalid value encountered in divide\n",
      "  physpol = np.nan_to_num(action_counts / action_counts.sum(axis=1, keepdims=True))\n"
     ]
    },
    {
     "name": "stdout",
     "output_type": "stream",
     "text": [
      "Penalty: -0.01, Model 0 of 500\n",
      "Clustering\n",
      "Zeroing out 433/1004 transitions\n",
      "Create reward matrix R(S, A)\n",
      "Policy iteration\n",
      "Evaluate on MIMIC training set\n"
     ]
    },
    {
     "name": "stderr",
     "output_type": "stream",
     "text": [
      "TD evaluation:   0%|          | 0/6 [00:00<?, ?it/s]"
     ]
    },
    {
     "name": "stdout",
     "output_type": "stream",
     "text": [
      "Penalty: 0.11, Model 0 of 500\n",
      "Clustering\n",
      "Zeroing out 418/1004 transitions\n",
      "Create reward matrix R(S, A)\n",
      "Policy iteration\n",
      "Evaluate on MIMIC training set\n"
     ]
    },
    {
     "name": "stderr",
     "output_type": "stream",
     "text": [
      "TD evaluation:   0%|          | 0/6 [00:00<?, ?it/s]"
     ]
    },
    {
     "name": "stdout",
     "output_type": "stream",
     "text": [
      "Penalty: 0.08, Model 0 of 500\n",
      "Clustering\n",
      "Zeroing out 420/1004 transitions\n",
      "Create reward matrix R(S, A)\n",
      "Policy iteration\n",
      "Evaluate on MIMIC training set\n",
      "Penalty: 0.12, Model 0 of 500\n",
      "Clustering\n",
      "Zeroing out 417/1004 transitions\n",
      "Create reward matrix R(S, A)\n",
      "Policy iteration\n",
      "Evaluate on MIMIC training set\n",
      "Penalty: 0.13, Model 0 of 500\n",
      "Clustering\n",
      "Zeroing out 412/1004 transitions\n",
      "Create reward matrix R(S, A)\n",
      "Policy iteration\n",
      "Evaluate on MIMIC training set\n"
     ]
    },
    {
     "name": "stderr",
     "output_type": "stream",
     "text": [
      "TD evaluation:   0%|          | 0/6 [00:00<?, ?it/s]"
     ]
    },
    {
     "name": "stdout",
     "output_type": "stream",
     "text": [
      "Penalty: 0.06, Model 0 of 500\n",
      "Clustering\n",
      "Zeroing out 417/1004 transitions\n",
      "Create reward matrix R(S, A)\n",
      "Policy iteration\n",
      "Evaluate on MIMIC training set\n",
      "Penalty: 0.09, Model 0 of 500\n",
      "Clustering\n",
      "Zeroing out 416/1004 transitions\n",
      "Create reward matrix R(S, A)\n",
      "Policy iteration\n",
      "Evaluate on MIMIC training set\n"
     ]
    },
    {
     "name": "stderr",
     "output_type": "stream",
     "text": [
      "TD evaluation:   0%|          | 0/6 [00:00<?, ?it/s]"
     ]
    },
    {
     "name": "stdout",
     "output_type": "stream",
     "text": [
      "Penalty: 0.1, Model 0 of 500\n",
      "Clustering\n",
      "Zeroing out 413/1004 transitions\n",
      "Create reward matrix R(S, A)\n",
      "Policy iteration\n",
      "Evaluate on MIMIC training set\n",
      "Penalty: 0.03, Model 0 of 500\n",
      "Clustering\n",
      "Zeroing out 421/1004 transitions\n",
      "Create reward matrix R(S, A)\n",
      "Policy iteration\n",
      "Evaluate on MIMIC training set\n",
      "Penalty: 0.01, Model 0 of 500\n",
      "Clustering\n",
      "Zeroing out 424/1004 transitions\n",
      "Create reward matrix R(S, A)\n",
      "Policy iteration\n",
      "Evaluate on MIMIC training set\n",
      "Penalty: 0.0, Model 0 of 500\n",
      "Clustering\n",
      "Zeroing out 413/1004 transitions\n",
      "Create reward matrix R(S, A)\n",
      "Policy iteration\n",
      "Evaluate on MIMIC training set\n"
     ]
    },
    {
     "name": "stderr",
     "output_type": "stream",
     "text": [
      "TD evaluation:   0%|          | 0/6 [00:00<?, ?it/s]"
     ]
    },
    {
     "name": "stdout",
     "output_type": "stream",
     "text": [
      "Penalty: 0.14, Model 0 of 500\n",
      "Clustering\n",
      "Zeroing out 418/1004 transitions\n",
      "Create reward matrix R(S, A)\n",
      "Policy iteration\n",
      "Evaluate on MIMIC training set\n",
      "Penalty: 0.02, Model 0 of 500\n",
      "Clustering\n",
      "Zeroing out 415/1004 transitions\n",
      "Create reward matrix R(S, A)\n",
      "Policy iteration\n",
      "Evaluate on MIMIC training set\n",
      "Penalty: 0.04, Model 0 of 500\n",
      "Clustering\n",
      "Zeroing out 411/1004 transitions\n",
      "Create reward matrix R(S, A)\n",
      "Policy iteration\n",
      "Evaluate on MIMIC training set\n",
      "Penalty: 0.07, Model 0 of 500\n",
      "Clustering\n",
      "Zeroing out 406/1004 transitions\n",
      "Create reward matrix R(S, A)\n",
      "Policy iteration\n",
      "Evaluate on MIMIC training set\n",
      "Penalty: 0.05, Model 0 of 500\n",
      "Clustering\n",
      "Zeroing out 408/1004 transitions\n",
      "Create reward matrix R(S, A)\n",
      "Policy iteration\n",
      "Evaluate on MIMIC training set\n"
     ]
    },
    {
     "name": "stderr",
     "output_type": "stream",
     "text": [
      "TD evaluation: 100%|██████████| 6/6 [00:13<00:00,  2.20s/it]\n",
      "/home/lkapral/RRT_mimic_iv/ai_clinician/modeling/models/komorowski_model.py:339: RuntimeWarning: divide by zero encountered in divide\n",
      "  z = self.soften_factor / ii.sum()\n",
      "/home/lkapral/RRT_mimic_iv/ai_clinician/modeling/models/komorowski_model.py:342: RuntimeWarning: divide by zero encountered in scalar divide\n",
      "  soft_physpol[i, ~ii] = soft_physpol[i,~ii] * (1 - self.soften_factor / coef)\n",
      "TD evaluation: 100%|██████████| 6/6 [00:12<00:00,  2.06s/it]\n",
      "/home/lkapral/RRT_mimic_iv/ai_clinician/modeling/models/komorowski_model.py:339: RuntimeWarning: divide by zero encountered in divide\n",
      "  z = self.soften_factor / ii.sum()\n",
      "/home/lkapral/RRT_mimic_iv/ai_clinician/modeling/models/komorowski_model.py:342: RuntimeWarning: divide by zero encountered in scalar divide\n",
      "  soft_physpol[i, ~ii] = soft_physpol[i,~ii] * (1 - self.soften_factor / coef)\n",
      "TD evaluation: 100%|██████████| 6/6 [00:12<00:00,  2.15s/it]\n",
      "/home/lkapral/RRT_mimic_iv/ai_clinician/modeling/models/komorowski_model.py:339: RuntimeWarning: divide by zero encountered in divide\n",
      "  z = self.soften_factor / ii.sum()\n",
      "TD evaluation: 100%|██████████| 6/6 [00:13<00:00,  2.18s/it]\n",
      "/home/lkapral/RRT_mimic_iv/ai_clinician/modeling/models/komorowski_model.py:339: RuntimeWarning: divide by zero encountered in divide\n",
      "  z = self.soften_factor / ii.sum()\n",
      "TD evaluation: 100%|██████████| 6/6 [00:13<00:00,  2.26s/it]\n",
      "TD evaluation: 100%|██████████| 6/6 [00:12<00:00,  2.11s/it]\n",
      "TD evaluation: 100%|██████████| 6/6 [00:12<00:00,  2.05s/it]\n",
      "/home/lkapral/RRT_mimic_iv/ai_clinician/modeling/models/komorowski_model.py:339: RuntimeWarning: divide by zero encountered in divide\n",
      "  z = self.soften_factor / ii.sum()\n",
      "/home/lkapral/RRT_mimic_iv/ai_clinician/modeling/models/komorowski_model.py:339: RuntimeWarning: divide by zero encountered in divide\n",
      "  z = self.soften_factor / ii.sum()\n",
      "/home/lkapral/RRT_mimic_iv/ai_clinician/modeling/models/komorowski_model.py:342: RuntimeWarning: divide by zero encountered in scalar divide\n",
      "  soft_physpol[i, ~ii] = soft_physpol[i,~ii] * (1 - self.soften_factor / coef)\n",
      "/home/lkapral/RRT_mimic_iv/ai_clinician/modeling/models/komorowski_model.py:339: RuntimeWarning: divide by zero encountered in divide\n",
      "  z = self.soften_factor / ii.sum()\n",
      "/home/lkapral/RRT_mimic_iv/ai_clinician/modeling/models/komorowski_model.py:342: RuntimeWarning: divide by zero encountered in scalar divide\n",
      "  soft_physpol[i, ~ii] = soft_physpol[i,~ii] * (1 - self.soften_factor / coef)\n",
      "TD evaluation: 100%|██████████| 6/6 [00:12<00:00,  2.05s/it]\n",
      "TD evaluation: 100%|██████████| 6/6 [00:13<00:00,  2.22s/it]\n",
      "/home/lkapral/RRT_mimic_iv/ai_clinician/modeling/models/komorowski_model.py:339: RuntimeWarning: divide by zero encountered in divide\n",
      "  z = self.soften_factor / ii.sum()\n",
      "/home/lkapral/RRT_mimic_iv/ai_clinician/modeling/models/komorowski_model.py:342: RuntimeWarning: divide by zero encountered in scalar divide\n",
      "  soft_physpol[i, ~ii] = soft_physpol[i,~ii] * (1 - self.soften_factor / coef)\n",
      "/home/lkapral/RRT_mimic_iv/ai_clinician/modeling/models/komorowski_model.py:339: RuntimeWarning: divide by zero encountered in divide\n",
      "  z = self.soften_factor / ii.sum()\n",
      "TD evaluation: 100%|██████████| 6/6 [00:13<00:00,  2.17s/it]\n",
      "/home/lkapral/RRT_mimic_iv/ai_clinician/modeling/models/komorowski_model.py:339: RuntimeWarning: divide by zero encountered in divide\n",
      "  z = self.soften_factor / ii.sum()\n",
      "TD evaluation: 100%|██████████| 6/6 [00:12<00:00,  2.13s/it]\n",
      "/home/lkapral/RRT_mimic_iv/ai_clinician/modeling/models/komorowski_model.py:339: RuntimeWarning: divide by zero encountered in divide\n",
      "  z = self.soften_factor / ii.sum()\n",
      "/home/lkapral/RRT_mimic_iv/ai_clinician/modeling/models/komorowski_model.py:342: RuntimeWarning: divide by zero encountered in scalar divide\n",
      "  soft_physpol[i, ~ii] = soft_physpol[i,~ii] * (1 - self.soften_factor / coef)\n",
      "TD evaluation: 100%|██████████| 6/6 [00:13<00:00,  2.26s/it]\n",
      "/home/lkapral/RRT_mimic_iv/ai_clinician/modeling/models/komorowski_model.py:339: RuntimeWarning: divide by zero encountered in divide\n",
      "  z = self.soften_factor / ii.sum()\n",
      "/home/lkapral/RRT_mimic_iv/ai_clinician/modeling/models/komorowski_model.py:342: RuntimeWarning: divide by zero encountered in scalar divide\n",
      "  soft_physpol[i, ~ii] = soft_physpol[i,~ii] * (1 - self.soften_factor / coef)\n",
      "TD evaluation: 100%|██████████| 6/6 [00:13<00:00,  2.23s/it]\n",
      "/home/lkapral/RRT_mimic_iv/ai_clinician/modeling/models/komorowski_model.py:339: RuntimeWarning: divide by zero encountered in divide\n",
      "  z = self.soften_factor / ii.sum()\n",
      "TD evaluation: 100%|██████████| 6/6 [00:13<00:00,  2.28s/it]\n",
      "/home/lkapral/RRT_mimic_iv/ai_clinician/modeling/models/komorowski_model.py:339: RuntimeWarning: divide by zero encountered in divide\n",
      "  z = self.soften_factor / ii.sum()\n",
      "/home/lkapral/RRT_mimic_iv/ai_clinician/modeling/models/komorowski_model.py:342: RuntimeWarning: divide by zero encountered in scalar divide\n",
      "  soft_physpol[i, ~ii] = soft_physpol[i,~ii] * (1 - self.soften_factor / coef)\n",
      "TD evaluation: 100%|██████████| 6/6 [00:13<00:00,  2.32s/it]\n",
      "/home/lkapral/RRT_mimic_iv/ai_clinician/modeling/models/komorowski_model.py:339: RuntimeWarning: divide by zero encountered in divide\n",
      "  z = self.soften_factor / ii.sum()\n",
      "/home/lkapral/RRT_mimic_iv/ai_clinician/modeling/models/komorowski_model.py:342: RuntimeWarning: divide by zero encountered in scalar divide\n",
      "  soft_physpol[i, ~ii] = soft_physpol[i,~ii] * (1 - self.soften_factor / coef)\n",
      "TD evaluation: 100%|██████████| 6/6 [00:13<00:00,  2.25s/it]\n",
      "/home/lkapral/RRT_mimic_iv/ai_clinician/modeling/models/komorowski_model.py:339: RuntimeWarning: divide by zero encountered in divide\n",
      "  z = self.soften_factor / ii.sum()\n",
      "WIS estimation: 100%|██████████| 700/700 [01:50<00:00,  6.35it/s]\n",
      "WIS estimation: 100%|██████████| 700/700 [01:49<00:00,  6.40it/s]\n",
      "WIS estimation: 100%|██████████| 700/700 [01:52<00:00,  6.25it/s]\n",
      "WIS estimation: 100%|██████████| 700/700 [01:50<00:00,  6.31it/s]\n",
      "WIS estimation: 100%|██████████| 700/700 [01:51<00:00,  6.28it/s]\n",
      "WIS estimation:  99%|█████████▉| 696/700 [01:51<00:00,  6.18it/s]"
     ]
    },
    {
     "name": "stdout",
     "output_type": "stream",
     "text": [
      "Evaluate on MIMIC validation set\n",
      "Evaluate on MIMIC validation set\n"
     ]
    },
    {
     "name": "stderr",
     "output_type": "stream",
     "text": [
      "WIS estimation: 100%|██████████| 700/700 [01:51<00:00,  6.27it/s]\n",
      "WIS estimation: 100%|██████████| 700/700 [01:51<00:00,  6.26it/s]\n",
      "WIS estimation: 100%|██████████| 700/700 [01:51<00:00,  6.25it/s]\n",
      "WIS estimation: 100%|██████████| 700/700 [01:53<00:00,  6.18it/s]\n",
      "WIS estimation: 100%|██████████| 700/700 [01:51<00:00,  6.26it/s]\n",
      "WIS estimation: 100%|██████████| 700/700 [01:52<00:00,  6.24it/s]\n",
      "WIS estimation:  98%|█████████▊| 687/700 [01:51<00:02,  5.93it/s]"
     ]
    },
    {
     "name": "stdout",
     "output_type": "stream",
     "text": [
      "Evaluate on MIMIC validation set\n"
     ]
    },
    {
     "name": "stderr",
     "output_type": "stream",
     "text": [
      "WIS estimation: 100%|██████████| 700/700 [01:51<00:00,  6.28it/s]\n",
      "WIS estimation: 100%|██████████| 700/700 [01:51<00:00,  6.28it/s]\n",
      "TD evaluation:   0%|          | 0/6 [00:00<?, ?it/s]"
     ]
    },
    {
     "name": "stdout",
     "output_type": "stream",
     "text": [
      "Evaluate on MIMIC validation set\n",
      "Evaluate on MIMIC validation set\n"
     ]
    },
    {
     "name": "stderr",
     "output_type": "stream",
     "text": [
      "WIS estimation: 100%|██████████| 700/700 [01:52<00:00,  6.23it/s]\n",
      "WIS estimation: 100%|█████████▉| 697/700 [01:51<00:00,  6.29it/s]"
     ]
    },
    {
     "name": "stdout",
     "output_type": "stream",
     "text": [
      "Evaluate on MIMIC validation set\n",
      "Evaluate on MIMIC validation set\n"
     ]
    },
    {
     "name": "stderr",
     "output_type": "stream",
     "text": [
      "TD evaluation:   0%|          | 0/6 [00:00<?, ?it/s]1,  6.14it/s]"
     ]
    },
    {
     "name": "stdout",
     "output_type": "stream",
     "text": [
      "Evaluate on MIMIC validation set\n",
      "Evaluate on MIMIC validation set\n",
      "Evaluate on MIMIC validation set\n"
     ]
    },
    {
     "name": "stderr",
     "output_type": "stream",
     "text": [
      "WIS estimation: 100%|██████████| 700/700 [01:52<00:00,  6.23it/s]\n",
      "WIS estimation:  99%|█████████▉| 693/700 [01:52<00:01,  6.16it/s]"
     ]
    },
    {
     "name": "stdout",
     "output_type": "stream",
     "text": [
      "Evaluate on MIMIC validation set\n"
     ]
    },
    {
     "name": "stderr",
     "output_type": "stream",
     "text": [
      "TD evaluation:   0%|          | 0/6 [00:00<?, ?it/s]0,  6.19it/s]"
     ]
    },
    {
     "name": "stdout",
     "output_type": "stream",
     "text": [
      "Evaluate on MIMIC validation set\n",
      "Evaluate on MIMIC validation set\n",
      "Evaluate on MIMIC validation set\n"
     ]
    },
    {
     "name": "stderr",
     "output_type": "stream",
     "text": [
      "WIS estimation: 100%|██████████| 700/700 [01:53<00:00,  6.18it/s]\n",
      "TD evaluation:  17%|█▋        | 1/6 [00:02<00:10,  2.16s/it]"
     ]
    },
    {
     "name": "stdout",
     "output_type": "stream",
     "text": [
      "Evaluate on MIMIC validation set\n"
     ]
    },
    {
     "name": "stderr",
     "output_type": "stream",
     "text": [
      "TD evaluation:   0%|          | 0/6 [00:00<?, ?it/s].11s/it]"
     ]
    },
    {
     "name": "stdout",
     "output_type": "stream",
     "text": [
      "Evaluate on MIMIC validation set\n"
     ]
    },
    {
     "name": "stderr",
     "output_type": "stream",
     "text": [
      "TD evaluation: 100%|██████████| 6/6 [00:12<00:00,  2.13s/it]\n",
      "/home/lkapral/RRT_mimic_iv/ai_clinician/modeling/models/komorowski_model.py:339: RuntimeWarning: divide by zero encountered in divide\n",
      "  z = self.soften_factor / ii.sum()\n",
      "/home/lkapral/RRT_mimic_iv/ai_clinician/modeling/models/komorowski_model.py:342: RuntimeWarning: divide by zero encountered in scalar divide\n",
      "  soft_physpol[i, ~ii] = soft_physpol[i,~ii] * (1 - self.soften_factor / coef)\n",
      "TD evaluation: 100%|██████████| 6/6 [00:12<00:00,  2.14s/it]\n",
      "/home/lkapral/RRT_mimic_iv/ai_clinician/modeling/models/komorowski_model.py:339: RuntimeWarning: divide by zero encountered in divide\n",
      "  z = self.soften_factor / ii.sum()\n",
      "TD evaluation: 100%|██████████| 6/6 [00:11<00:00,  2.00s/it]\n",
      "/home/lkapral/RRT_mimic_iv/ai_clinician/modeling/models/komorowski_model.py:339: RuntimeWarning: divide by zero encountered in divide\n",
      "  z = self.soften_factor / ii.sum()\n",
      "TD evaluation: 100%|██████████| 6/6 [00:11<00:00,  1.88s/it]\n",
      "/home/lkapral/RRT_mimic_iv/ai_clinician/modeling/models/komorowski_model.py:339: RuntimeWarning: divide by zero encountered in divide\n",
      "  z = self.soften_factor / ii.sum()\n",
      "/home/lkapral/RRT_mimic_iv/ai_clinician/modeling/models/komorowski_model.py:342: RuntimeWarning: divide by zero encountered in scalar divide\n",
      "  soft_physpol[i, ~ii] = soft_physpol[i,~ii] * (1 - self.soften_factor / coef)\n",
      "TD evaluation: 100%|██████████| 6/6 [00:12<00:00,  2.05s/it]\n",
      "/home/lkapral/RRT_mimic_iv/ai_clinician/modeling/models/komorowski_model.py:339: RuntimeWarning: divide by zero encountered in divide\n",
      "  z = self.soften_factor / ii.sum()\n",
      "TD evaluation: 100%|██████████| 6/6 [00:11<00:00,  1.99s/it]\n",
      "/home/lkapral/RRT_mimic_iv/ai_clinician/modeling/models/komorowski_model.py:339: RuntimeWarning: divide by zero encountered in divide\n",
      "  z = self.soften_factor / ii.sum()\n",
      "TD evaluation: 100%|██████████| 6/6 [00:12<00:00,  2.06s/it]\n",
      "/home/lkapral/RRT_mimic_iv/ai_clinician/modeling/models/komorowski_model.py:339: RuntimeWarning: divide by zero encountered in divide\n",
      "  z = self.soften_factor / ii.sum()\n",
      "TD evaluation: 100%|██████████| 6/6 [00:12<00:00,  2.15s/it]\n",
      "/home/lkapral/RRT_mimic_iv/ai_clinician/modeling/models/komorowski_model.py:339: RuntimeWarning: divide by zero encountered in divide\n",
      "  z = self.soften_factor / ii.sum()\n",
      "/home/lkapral/RRT_mimic_iv/ai_clinician/modeling/models/komorowski_model.py:342: RuntimeWarning: divide by zero encountered in scalar divide\n",
      "  soft_physpol[i, ~ii] = soft_physpol[i,~ii] * (1 - self.soften_factor / coef)\n",
      "TD evaluation: 100%|██████████| 6/6 [00:12<00:00,  2.04s/it]\n",
      "/home/lkapral/RRT_mimic_iv/ai_clinician/modeling/models/komorowski_model.py:339: RuntimeWarning: divide by zero encountered in divide\n",
      "  z = self.soften_factor / ii.sum()\n",
      "TD evaluation: 100%|██████████| 6/6 [00:12<00:00,  2.07s/it]\n",
      "/home/lkapral/RRT_mimic_iv/ai_clinician/modeling/models/komorowski_model.py:339: RuntimeWarning: divide by zero encountered in divide\n",
      "  z = self.soften_factor / ii.sum()\n",
      "/home/lkapral/RRT_mimic_iv/ai_clinician/modeling/models/komorowski_model.py:342: RuntimeWarning: divide by zero encountered in scalar divide\n",
      "  soft_physpol[i, ~ii] = soft_physpol[i,~ii] * (1 - self.soften_factor / coef)\n",
      "TD evaluation: 100%|██████████| 6/6 [00:12<00:00,  2.02s/it]/s]\n",
      "/home/lkapral/RRT_mimic_iv/ai_clinician/modeling/models/komorowski_model.py:339: RuntimeWarning: divide by zero encountered in divide\n",
      "  z = self.soften_factor / ii.sum()\n",
      "/home/lkapral/RRT_mimic_iv/ai_clinician/modeling/models/komorowski_model.py:342: RuntimeWarning: divide by zero encountered in scalar divide\n",
      "  soft_physpol[i, ~ii] = soft_physpol[i,~ii] * (1 - self.soften_factor / coef)\n",
      "TD evaluation: 100%|██████████| 6/6 [00:12<00:00,  2.14s/it]/s]\n",
      "WIS estimation:   0%|          | 3/700 [00:00<00:26, 26.53it/s]/home/lkapral/RRT_mimic_iv/ai_clinician/modeling/models/komorowski_model.py:339: RuntimeWarning: divide by zero encountered in divide\n",
      "  z = self.soften_factor / ii.sum()\n",
      "/home/lkapral/RRT_mimic_iv/ai_clinician/modeling/models/komorowski_model.py:342: RuntimeWarning: divide by zero encountered in scalar divide\n",
      "  soft_physpol[i, ~ii] = soft_physpol[i,~ii] * (1 - self.soften_factor / coef)\n",
      "TD evaluation: 100%|██████████| 6/6 [00:12<00:00,  2.07s/it]/s]]\n",
      "/home/lkapral/RRT_mimic_iv/ai_clinician/modeling/models/komorowski_model.py:339: RuntimeWarning: divide by zero encountered in divide\n",
      "  z = self.soften_factor / ii.sum()\n",
      "TD evaluation: 100%|██████████| 6/6 [00:11<00:00,  1.96s/it]/s]\n",
      "/home/lkapral/RRT_mimic_iv/ai_clinician/modeling/models/komorowski_model.py:339: RuntimeWarning: divide by zero encountered in divide\n",
      "  z = self.soften_factor / ii.sum()\n",
      "WIS estimation:   2%|▏         | 15/700 [00:00<00:25, 27.04it/s]/home/lkapral/RRT_mimic_iv/ai_clinician/modeling/models/komorowski_model.py:342: RuntimeWarning: divide by zero encountered in scalar divide\n",
      "  soft_physpol[i, ~ii] = soft_physpol[i,~ii] * (1 - self.soften_factor / coef)\n",
      "TD evaluation: 100%|██████████| 6/6 [00:12<00:00,  2.13s/it]t/s]\n",
      "/home/lkapral/RRT_mimic_iv/ai_clinician/modeling/models/komorowski_model.py:339: RuntimeWarning: divide by zero encountered in divide\n",
      "  z = self.soften_factor / ii.sum()\n",
      "/home/lkapral/RRT_mimic_iv/ai_clinician/modeling/models/komorowski_model.py:342: RuntimeWarning: divide by zero encountered in scalar divide\n",
      "  soft_physpol[i, ~ii] = soft_physpol[i,~ii] * (1 - self.soften_factor / coef)\n",
      "TD evaluation: 100%|██████████| 6/6 [00:11<00:00,  1.89s/it]t/s]\n",
      "WIS estimation:   5%|▌         | 36/700 [00:01<00:24, 27.15it/s]/home/lkapral/RRT_mimic_iv/ai_clinician/modeling/models/komorowski_model.py:339: RuntimeWarning: divide by zero encountered in divide\n",
      "  z = self.soften_factor / ii.sum()\n",
      "/home/lkapral/RRT_mimic_iv/ai_clinician/modeling/models/komorowski_model.py:342: RuntimeWarning: divide by zero encountered in scalar divide\n",
      "  soft_physpol[i, ~ii] = soft_physpol[i,~ii] * (1 - self.soften_factor / coef)\n",
      "WIS estimation: 100%|██████████| 700/700 [00:25<00:00, 27.17it/s]\n",
      "WIS estimation: 100%|██████████| 700/700 [00:25<00:00, 27.19it/s]\n",
      "WIS estimation: 100%|██████████| 700/700 [00:26<00:00, 26.75it/s]\n",
      "WIS estimation: 100%|██████████| 700/700 [00:26<00:00, 26.85it/s]\n",
      "WIS estimation: 100%|██████████| 700/700 [00:26<00:00, 26.84it/s]\n",
      "WIS estimation: 100%|██████████| 700/700 [00:26<00:00, 26.80it/s]\n",
      "WIS estimation: 100%|██████████| 700/700 [00:25<00:00, 26.99it/s]\n",
      "WIS estimation: 100%|██████████| 700/700 [00:26<00:00, 26.85it/s]\n",
      "WIS estimation: 100%|██████████| 700/700 [00:26<00:00, 26.88it/s]\n",
      "WIS estimation: 100%|██████████| 700/700 [00:26<00:00, 26.88it/s]\n",
      "WIS estimation: 100%|██████████| 700/700 [00:26<00:00, 26.75it/s]\n",
      "WIS estimation: 100%|██████████| 700/700 [00:26<00:00, 26.61it/s]\n",
      "WIS estimation: 100%|██████████| 700/700 [00:26<00:00, 26.86it/s]\n",
      "WIS estimation: 100%|██████████| 700/700 [00:26<00:00, 26.54it/s]\n",
      "WIS estimation: 100%|██████████| 700/700 [00:26<00:00, 26.77it/s]\n",
      "WIS estimation: 100%|██████████| 700/700 [00:26<00:00, 26.24it/s]\n",
      "/home/lkapral/RRT_mimic_iv/ai_clinician/modeling/models/common.py:142: RuntimeWarning: invalid value encountered in divide\n",
      "  transitionr = np.nan_to_num(np.where(transitionr > 0, transitionr / action_counts, 0))\n",
      "/home/lkapral/RRT_mimic_iv/ai_clinician/modeling/models/common.py:143: RuntimeWarning: invalid value encountered in divide\n",
      "  physpol = np.nan_to_num(action_counts / action_counts.sum(axis=1, keepdims=True))\n",
      "/home/lkapral/RRT_mimic_iv/ai_clinician/modeling/models/common.py:142: RuntimeWarning: invalid value encountered in divide\n",
      "  transitionr = np.nan_to_num(np.where(transitionr > 0, transitionr / action_counts, 0))\n",
      "/home/lkapral/RRT_mimic_iv/ai_clinician/modeling/models/common.py:143: RuntimeWarning: invalid value encountered in divide\n",
      "  physpol = np.nan_to_num(action_counts / action_counts.sum(axis=1, keepdims=True))\n",
      "/home/lkapral/RRT_mimic_iv/ai_clinician/modeling/models/common.py:142: RuntimeWarning: invalid value encountered in divide\n",
      "  transitionr = np.nan_to_num(np.where(transitionr > 0, transitionr / action_counts, 0))\n",
      "/home/lkapral/RRT_mimic_iv/ai_clinician/modeling/models/common.py:143: RuntimeWarning: invalid value encountered in divide\n",
      "  physpol = np.nan_to_num(action_counts / action_counts.sum(axis=1, keepdims=True))\n",
      "/home/lkapral/RRT_mimic_iv/ai_clinician/modeling/models/common.py:142: RuntimeWarning: invalid value encountered in divide\n",
      "  transitionr = np.nan_to_num(np.where(transitionr > 0, transitionr / action_counts, 0))\n",
      "/home/lkapral/RRT_mimic_iv/ai_clinician/modeling/models/common.py:142: RuntimeWarning: invalid value encountered in divide\n",
      "  transitionr = np.nan_to_num(np.where(transitionr > 0, transitionr / action_counts, 0))\n",
      "/home/lkapral/RRT_mimic_iv/ai_clinician/modeling/models/common.py:143: RuntimeWarning: invalid value encountered in divide\n",
      "  physpol = np.nan_to_num(action_counts / action_counts.sum(axis=1, keepdims=True))\n",
      "/home/lkapral/RRT_mimic_iv/ai_clinician/modeling/models/common.py:143: RuntimeWarning: invalid value encountered in divide\n",
      "  physpol = np.nan_to_num(action_counts / action_counts.sum(axis=1, keepdims=True))\n",
      "/home/lkapral/RRT_mimic_iv/ai_clinician/modeling/models/common.py:142: RuntimeWarning: invalid value encountered in divide\n",
      "  transitionr = np.nan_to_num(np.where(transitionr > 0, transitionr / action_counts, 0))\n",
      "/home/lkapral/RRT_mimic_iv/ai_clinician/modeling/models/common.py:143: RuntimeWarning: invalid value encountered in divide\n",
      "  physpol = np.nan_to_num(action_counts / action_counts.sum(axis=1, keepdims=True))\n",
      "/home/lkapral/RRT_mimic_iv/ai_clinician/modeling/models/common.py:142: RuntimeWarning: invalid value encountered in divide\n",
      "  transitionr = np.nan_to_num(np.where(transitionr > 0, transitionr / action_counts, 0))\n",
      "/home/lkapral/RRT_mimic_iv/ai_clinician/modeling/models/common.py:143: RuntimeWarning: invalid value encountered in divide\n",
      "  physpol = np.nan_to_num(action_counts / action_counts.sum(axis=1, keepdims=True))\n",
      "/home/lkapral/RRT_mimic_iv/ai_clinician/modeling/models/common.py:142: RuntimeWarning: invalid value encountered in divide\n",
      "  transitionr = np.nan_to_num(np.where(transitionr > 0, transitionr / action_counts, 0))\n",
      "/home/lkapral/RRT_mimic_iv/ai_clinician/modeling/models/common.py:143: RuntimeWarning: invalid value encountered in divide\n",
      "  physpol = np.nan_to_num(action_counts / action_counts.sum(axis=1, keepdims=True))\n",
      "/home/lkapral/RRT_mimic_iv/ai_clinician/modeling/models/common.py:142: RuntimeWarning: invalid value encountered in divide\n",
      "  transitionr = np.nan_to_num(np.where(transitionr > 0, transitionr / action_counts, 0))\n",
      "/home/lkapral/RRT_mimic_iv/ai_clinician/modeling/models/common.py:143: RuntimeWarning: invalid value encountered in divide\n",
      "  physpol = np.nan_to_num(action_counts / action_counts.sum(axis=1, keepdims=True))\n",
      "/home/lkapral/RRT_mimic_iv/ai_clinician/modeling/models/common.py:142: RuntimeWarning: invalid value encountered in divide\n",
      "  transitionr = np.nan_to_num(np.where(transitionr > 0, transitionr / action_counts, 0))\n",
      "/home/lkapral/RRT_mimic_iv/ai_clinician/modeling/models/common.py:143: RuntimeWarning: invalid value encountered in divide\n",
      "  physpol = np.nan_to_num(action_counts / action_counts.sum(axis=1, keepdims=True))\n",
      "/home/lkapral/RRT_mimic_iv/ai_clinician/modeling/models/common.py:142: RuntimeWarning: invalid value encountered in divide\n",
      "  transitionr = np.nan_to_num(np.where(transitionr > 0, transitionr / action_counts, 0))\n",
      "/home/lkapral/RRT_mimic_iv/ai_clinician/modeling/models/common.py:143: RuntimeWarning: invalid value encountered in divide\n",
      "  physpol = np.nan_to_num(action_counts / action_counts.sum(axis=1, keepdims=True))\n",
      "/home/lkapral/RRT_mimic_iv/ai_clinician/modeling/models/common.py:142: RuntimeWarning: invalid value encountered in divide\n",
      "  transitionr = np.nan_to_num(np.where(transitionr > 0, transitionr / action_counts, 0))\n",
      "/home/lkapral/RRT_mimic_iv/ai_clinician/modeling/models/common.py:143: RuntimeWarning: invalid value encountered in divide\n",
      "  physpol = np.nan_to_num(action_counts / action_counts.sum(axis=1, keepdims=True))\n",
      "/home/lkapral/RRT_mimic_iv/ai_clinician/modeling/models/common.py:142: RuntimeWarning: invalid value encountered in divide\n",
      "  transitionr = np.nan_to_num(np.where(transitionr > 0, transitionr / action_counts, 0))\n",
      "/home/lkapral/RRT_mimic_iv/ai_clinician/modeling/models/common.py:143: RuntimeWarning: invalid value encountered in divide\n",
      "  physpol = np.nan_to_num(action_counts / action_counts.sum(axis=1, keepdims=True))\n",
      "/home/lkapral/RRT_mimic_iv/ai_clinician/modeling/models/common.py:142: RuntimeWarning: invalid value encountered in divide\n",
      "  transitionr = np.nan_to_num(np.where(transitionr > 0, transitionr / action_counts, 0))\n",
      "/home/lkapral/RRT_mimic_iv/ai_clinician/modeling/models/common.py:143: RuntimeWarning: invalid value encountered in divide\n",
      "  physpol = np.nan_to_num(action_counts / action_counts.sum(axis=1, keepdims=True))\n",
      "/home/lkapral/RRT_mimic_iv/ai_clinician/modeling/models/common.py:142: RuntimeWarning: invalid value encountered in divide\n",
      "  transitionr = np.nan_to_num(np.where(transitionr > 0, transitionr / action_counts, 0))\n",
      "/home/lkapral/RRT_mimic_iv/ai_clinician/modeling/models/common.py:143: RuntimeWarning: invalid value encountered in divide\n",
      "  physpol = np.nan_to_num(action_counts / action_counts.sum(axis=1, keepdims=True))\n",
      "/home/lkapral/RRT_mimic_iv/ai_clinician/modeling/models/common.py:142: RuntimeWarning: invalid value encountered in divide\n",
      "  transitionr = np.nan_to_num(np.where(transitionr > 0, transitionr / action_counts, 0))\n",
      "/home/lkapral/RRT_mimic_iv/ai_clinician/modeling/models/common.py:143: RuntimeWarning: invalid value encountered in divide\n",
      "  physpol = np.nan_to_num(action_counts / action_counts.sum(axis=1, keepdims=True))\n"
     ]
    },
    {
     "name": "stdout",
     "output_type": "stream",
     "text": [
      "95% LB: 83.05\n",
      "Saving model: best_model\n",
      "Penalty: 0.04, Model 1 of 500\n",
      "Clustering\n",
      "Zeroing out 417/1004 transitions\n",
      "Create reward matrix R(S, A)\n",
      "Policy iteration\n",
      "Evaluate on MIMIC training set\n"
     ]
    },
    {
     "name": "stderr",
     "output_type": "stream",
     "text": [
      "TD evaluation:   0%|          | 0/6 [00:00<?, ?it/s]"
     ]
    },
    {
     "name": "stdout",
     "output_type": "stream",
     "text": [
      "95% LB: 78.31\n",
      "Saving model: best_model\n",
      "Penalty: 0.13, Model 1 of 500\n",
      "Clustering\n",
      "Zeroing out 411/1004 transitions\n",
      "Create reward matrix R(S, A)\n",
      "Policy iteration\n",
      "Evaluate on MIMIC training set\n"
     ]
    },
    {
     "name": "stderr",
     "output_type": "stream",
     "text": [
      "TD evaluation:   0%|          | 0/6 [00:00<?, ?it/s]"
     ]
    },
    {
     "name": "stdout",
     "output_type": "stream",
     "text": [
      "95% LB: -80.97\n",
      "Saving model: worst_model\n",
      "Penalty: 0.07, Model 1 of 500\n",
      "Clustering\n",
      "Zeroing out 412/1004 transitions\n",
      "Create reward matrix R(S, A)\n",
      "Policy iteration\n",
      "Evaluate on MIMIC training set\n"
     ]
    },
    {
     "name": "stderr",
     "output_type": "stream",
     "text": [
      "TD evaluation:   0%|          | 0/6 [00:00<?, ?it/s]"
     ]
    },
    {
     "name": "stdout",
     "output_type": "stream",
     "text": [
      "95% LB: 67.11\n",
      "Saving model: best_model\n",
      "Penalty: 0.08, Model 1 of 500\n",
      "Clustering\n",
      "Zeroing out 417/1004 transitions\n",
      "Create reward matrix R(S, A)\n",
      "Policy iteration\n",
      "Evaluate on MIMIC training set\n",
      "95% LB: 71.87\n",
      "Saving model: best_model\n",
      "Penalty: 0.1, Model 1 of 500\n",
      "Clustering\n",
      "Zeroing out 412/1004 transitions\n",
      "Create reward matrix R(S, A)\n",
      "Policy iteration\n",
      "Evaluate on MIMIC training set\n",
      "95% LB: 77.67\n",
      "Saving model: best_model\n",
      "Penalty: 0.11, Model 1 of 500\n",
      "Clustering\n",
      "Zeroing out 416/1004 transitions\n",
      "Create reward matrix R(S, A)\n",
      "Policy iteration\n",
      "Evaluate on MIMIC training set\n",
      "95% LB: 71.80\n",
      "Saving model: best_model\n",
      "Penalty: 0.12, Model 1 of 500\n",
      "Clustering\n",
      "Zeroing out 416/1004 transitions\n",
      "Create reward matrix R(S, A)\n",
      "Policy iteration\n",
      "Evaluate on MIMIC training set\n"
     ]
    },
    {
     "name": "stderr",
     "output_type": "stream",
     "text": [
      "TD evaluation:   0%|          | 0/6 [00:00<?, ?it/s]"
     ]
    },
    {
     "name": "stdout",
     "output_type": "stream",
     "text": [
      "95% LB: 75.63\n",
      "Saving model: best_model\n",
      "Penalty: 0.06, Model 1 of 500\n",
      "Clustering\n",
      "Zeroing out 422/1004 transitions\n",
      "Create reward matrix R(S, A)\n",
      "Policy iteration\n",
      "Evaluate on MIMIC training set\n"
     ]
    },
    {
     "name": "stderr",
     "output_type": "stream",
     "text": [
      "TD evaluation:   0%|          | 0/6 [00:00<?, ?it/s]"
     ]
    },
    {
     "name": "stdout",
     "output_type": "stream",
     "text": [
      "95% LB: 82.10\n",
      "Saving model: best_model\n",
      "Penalty: 0.01, Model 1 of 500\n",
      "Clustering\n",
      "Zeroing out 418/1004 transitions\n",
      "Create reward matrix R(S, A)\n",
      "Policy iteration\n",
      "Evaluate on MIMIC training set\n"
     ]
    },
    {
     "name": "stderr",
     "output_type": "stream",
     "text": [
      "TD evaluation:   0%|          | 0/6 [00:00<?, ?it/s]"
     ]
    },
    {
     "name": "stdout",
     "output_type": "stream",
     "text": [
      "95% LB: 79.99\n",
      "Saving model: best_model\n",
      "Penalty: 0.05, Model 1 of 500\n",
      "Clustering\n",
      "Zeroing out 425/1004 transitions\n",
      "Create reward matrix R(S, A)\n",
      "Policy iteration\n",
      "Evaluate on MIMIC training set\n"
     ]
    },
    {
     "name": "stderr",
     "output_type": "stream",
     "text": [
      "TD evaluation:  17%|█▋        | 1/6 [00:02<00:11,  2.22s/it]"
     ]
    },
    {
     "name": "stdout",
     "output_type": "stream",
     "text": [
      "95% LB: 83.45\n",
      "Saving model: best_model\n",
      "Penalty: 0.0, Model 1 of 500\n",
      "Clustering\n",
      "Zeroing out 416/1004 transitions\n",
      "Create reward matrix R(S, A)\n",
      "Policy iteration\n",
      "Evaluate on MIMIC training set\n",
      "95% LB: 85.05\n",
      "Saving model: best_model\n",
      "Penalty: -0.01, Model 1 of 500\n",
      "Clustering\n",
      "Zeroing out 415/1004 transitions\n",
      "Create reward matrix R(S, A)\n",
      "Policy iteration\n",
      "Evaluate on MIMIC training set\n"
     ]
    },
    {
     "name": "stderr",
     "output_type": "stream",
     "text": [
      "TD evaluation:  17%|█▋        | 1/6 [00:02<00:11,  2.21s/it]"
     ]
    },
    {
     "name": "stdout",
     "output_type": "stream",
     "text": [
      "95% LB: 83.99\n",
      "Saving model: best_model\n",
      "Penalty: 0.02, Model 1 of 500\n",
      "Clustering\n",
      "Zeroing out 417/1004 transitions\n",
      "Create reward matrix R(S, A)\n",
      "Policy iteration\n",
      "Evaluate on MIMIC training set\n",
      "95% LB: 83.68\n",
      "Saving model: best_model\n",
      "Penalty: 0.03, Model 1 of 500\n",
      "Clustering\n",
      "Zeroing out 419/1004 transitions\n",
      "Create reward matrix R(S, A)\n",
      "Policy iteration\n",
      "Evaluate on MIMIC training set\n"
     ]
    },
    {
     "name": "stderr",
     "output_type": "stream",
     "text": [
      "TD evaluation:  17%|█▋        | 1/6 [00:02<00:11,  2.21s/it]"
     ]
    },
    {
     "name": "stdout",
     "output_type": "stream",
     "text": [
      "95% LB: 76.69\n",
      "Saving model: best_model\n",
      "Penalty: 0.14, Model 1 of 500\n",
      "Clustering\n",
      "Zeroing out 414/1004 transitions\n",
      "Create reward matrix R(S, A)\n",
      "Policy iteration\n",
      "Evaluate on MIMIC training set\n"
     ]
    },
    {
     "name": "stderr",
     "output_type": "stream",
     "text": [
      "TD evaluation:   0%|          | 0/6 [00:00<?, ?it/s].23s/it]"
     ]
    },
    {
     "name": "stdout",
     "output_type": "stream",
     "text": [
      "95% LB: 77.66\n",
      "Saving model: best_model\n",
      "Penalty: 0.09, Model 1 of 500\n",
      "Clustering\n",
      "Zeroing out 415/1004 transitions\n",
      "Create reward matrix R(S, A)\n",
      "Policy iteration\n",
      "Evaluate on MIMIC training set\n"
     ]
    },
    {
     "name": "stderr",
     "output_type": "stream",
     "text": [
      "TD evaluation: 100%|██████████| 6/6 [00:13<00:00,  2.21s/it]\n",
      "/home/lkapral/RRT_mimic_iv/ai_clinician/modeling/models/komorowski_model.py:339: RuntimeWarning: divide by zero encountered in divide\n",
      "  z = self.soften_factor / ii.sum()\n",
      "/home/lkapral/RRT_mimic_iv/ai_clinician/modeling/models/komorowski_model.py:342: RuntimeWarning: divide by zero encountered in scalar divide\n",
      "  soft_physpol[i, ~ii] = soft_physpol[i,~ii] * (1 - self.soften_factor / coef)\n",
      "TD evaluation: 100%|██████████| 6/6 [00:13<00:00,  2.20s/it]\n",
      "/home/lkapral/RRT_mimic_iv/ai_clinician/modeling/models/komorowski_model.py:339: RuntimeWarning: divide by zero encountered in divide\n",
      "  z = self.soften_factor / ii.sum()\n",
      "TD evaluation: 100%|██████████| 6/6 [00:12<00:00,  2.17s/it]\n",
      "/home/lkapral/RRT_mimic_iv/ai_clinician/modeling/models/komorowski_model.py:339: RuntimeWarning: divide by zero encountered in divide\n",
      "  z = self.soften_factor / ii.sum()\n",
      "/home/lkapral/RRT_mimic_iv/ai_clinician/modeling/models/komorowski_model.py:342: RuntimeWarning: divide by zero encountered in scalar divide\n",
      "  soft_physpol[i, ~ii] = soft_physpol[i,~ii] * (1 - self.soften_factor / coef)\n",
      "TD evaluation: 100%|██████████| 6/6 [00:13<00:00,  2.18s/it]\n",
      "/home/lkapral/RRT_mimic_iv/ai_clinician/modeling/models/komorowski_model.py:339: RuntimeWarning: divide by zero encountered in divide\n",
      "  z = self.soften_factor / ii.sum()\n",
      "TD evaluation: 100%|██████████| 6/6 [00:13<00:00,  2.22s/it]\n",
      "/home/lkapral/RRT_mimic_iv/ai_clinician/modeling/models/komorowski_model.py:339: RuntimeWarning: divide by zero encountered in divide\n",
      "  z = self.soften_factor / ii.sum()\n",
      "/home/lkapral/RRT_mimic_iv/ai_clinician/modeling/models/komorowski_model.py:342: RuntimeWarning: divide by zero encountered in scalar divide\n",
      "  soft_physpol[i, ~ii] = soft_physpol[i,~ii] * (1 - self.soften_factor / coef)\n",
      "TD evaluation: 100%|██████████| 6/6 [00:13<00:00,  2.20s/it]\n",
      "/home/lkapral/RRT_mimic_iv/ai_clinician/modeling/models/komorowski_model.py:339: RuntimeWarning: divide by zero encountered in divide\n",
      "  z = self.soften_factor / ii.sum()\n",
      "/home/lkapral/RRT_mimic_iv/ai_clinician/modeling/models/komorowski_model.py:342: RuntimeWarning: divide by zero encountered in scalar divide\n",
      "  soft_physpol[i, ~ii] = soft_physpol[i,~ii] * (1 - self.soften_factor / coef)\n",
      "TD evaluation: 100%|██████████| 6/6 [00:13<00:00,  2.23s/it]\n",
      "/home/lkapral/RRT_mimic_iv/ai_clinician/modeling/models/komorowski_model.py:339: RuntimeWarning: divide by zero encountered in divide\n",
      "  z = self.soften_factor / ii.sum()\n",
      "/home/lkapral/RRT_mimic_iv/ai_clinician/modeling/models/komorowski_model.py:342: RuntimeWarning: divide by zero encountered in scalar divide\n",
      "  soft_physpol[i, ~ii] = soft_physpol[i,~ii] * (1 - self.soften_factor / coef)\n",
      "TD evaluation: 100%|██████████| 6/6 [00:13<00:00,  2.25s/it]\n",
      "/home/lkapral/RRT_mimic_iv/ai_clinician/modeling/models/komorowski_model.py:339: RuntimeWarning: divide by zero encountered in divide\n",
      "  z = self.soften_factor / ii.sum()\n",
      "/home/lkapral/RRT_mimic_iv/ai_clinician/modeling/models/komorowski_model.py:342: RuntimeWarning: divide by zero encountered in scalar divide\n",
      "  soft_physpol[i, ~ii] = soft_physpol[i,~ii] * (1 - self.soften_factor / coef)\n",
      "TD evaluation: 100%|██████████| 6/6 [00:13<00:00,  2.21s/it]\n",
      "/home/lkapral/RRT_mimic_iv/ai_clinician/modeling/models/komorowski_model.py:339: RuntimeWarning: divide by zero encountered in divide\n",
      "  z = self.soften_factor / ii.sum()\n",
      "TD evaluation: 100%|██████████| 6/6 [00:13<00:00,  2.23s/it]\n",
      "/home/lkapral/RRT_mimic_iv/ai_clinician/modeling/models/komorowski_model.py:339: RuntimeWarning: divide by zero encountered in divide\n",
      "  z = self.soften_factor / ii.sum()\n",
      "/home/lkapral/RRT_mimic_iv/ai_clinician/modeling/models/komorowski_model.py:342: RuntimeWarning: divide by zero encountered in scalar divide\n",
      "  soft_physpol[i, ~ii] = soft_physpol[i,~ii] * (1 - self.soften_factor / coef)\n",
      "TD evaluation: 100%|██████████| 6/6 [00:13<00:00,  2.24s/it]\n",
      "/home/lkapral/RRT_mimic_iv/ai_clinician/modeling/models/komorowski_model.py:339: RuntimeWarning: divide by zero encountered in divide\n",
      "  z = self.soften_factor / ii.sum()\n",
      "TD evaluation: 100%|██████████| 6/6 [00:13<00:00,  2.17s/it]\n",
      "/home/lkapral/RRT_mimic_iv/ai_clinician/modeling/models/komorowski_model.py:339: RuntimeWarning: divide by zero encountered in divide\n",
      "  z = self.soften_factor / ii.sum()\n",
      "/home/lkapral/RRT_mimic_iv/ai_clinician/modeling/models/komorowski_model.py:342: RuntimeWarning: divide by zero encountered in scalar divide\n",
      "  soft_physpol[i, ~ii] = soft_physpol[i,~ii] * (1 - self.soften_factor / coef)\n",
      "TD evaluation: 100%|██████████| 6/6 [00:13<00:00,  2.26s/it]\n",
      "/home/lkapral/RRT_mimic_iv/ai_clinician/modeling/models/komorowski_model.py:339: RuntimeWarning: divide by zero encountered in divide\n",
      "  z = self.soften_factor / ii.sum()\n",
      "/home/lkapral/RRT_mimic_iv/ai_clinician/modeling/models/komorowski_model.py:342: RuntimeWarning: divide by zero encountered in scalar divide\n",
      "  soft_physpol[i, ~ii] = soft_physpol[i,~ii] * (1 - self.soften_factor / coef)\n",
      "TD evaluation: 100%|██████████| 6/6 [00:13<00:00,  2.24s/it]\n",
      "/home/lkapral/RRT_mimic_iv/ai_clinician/modeling/models/komorowski_model.py:339: RuntimeWarning: divide by zero encountered in divide\n",
      "  z = self.soften_factor / ii.sum()\n",
      "/home/lkapral/RRT_mimic_iv/ai_clinician/modeling/models/komorowski_model.py:342: RuntimeWarning: divide by zero encountered in scalar divide\n",
      "  soft_physpol[i, ~ii] = soft_physpol[i,~ii] * (1 - self.soften_factor / coef)\n",
      "TD evaluation: 100%|██████████| 6/6 [00:13<00:00,  2.17s/it]\n",
      "/home/lkapral/RRT_mimic_iv/ai_clinician/modeling/models/komorowski_model.py:339: RuntimeWarning: divide by zero encountered in divide\n",
      "  z = self.soften_factor / ii.sum()\n",
      "TD evaluation: 100%|██████████| 6/6 [00:13<00:00,  2.29s/it]\n",
      "/home/lkapral/RRT_mimic_iv/ai_clinician/modeling/models/komorowski_model.py:339: RuntimeWarning: divide by zero encountered in divide\n",
      "  z = self.soften_factor / ii.sum()\n",
      "/home/lkapral/RRT_mimic_iv/ai_clinician/modeling/models/komorowski_model.py:342: RuntimeWarning: divide by zero encountered in scalar divide\n",
      "  soft_physpol[i, ~ii] = soft_physpol[i,~ii] * (1 - self.soften_factor / coef)\n",
      "WIS estimation:   5%|▌         | 38/700 [00:06<01:46,  6.24it/s]"
     ]
    }
   ],
   "source": [
    "from joblib import Parallel, delayed\n",
    "import multiprocessing\n",
    "import os\n",
    "import numpy as np\n",
    "import pandas as pd\n",
    "import pickle\n",
    "from sklearn.model_selection import train_test_split\n",
    "\n",
    "train_ids, val_ids = train_test_split(unique_icu_stays, test_size=args.val_size)\n",
    "train_indexes = metadata[metadata[C_ICUSTAYID].isin(train_ids)].index\n",
    "val_indexes = metadata[metadata[C_ICUSTAYID].isin(val_ids)].index\n",
    "\n",
    "X_train = MIMICzs.iloc[train_indexes]\n",
    "X_val = MIMICzs.iloc[val_indexes]\n",
    "metadata_train = metadata.iloc[train_indexes]\n",
    "metadata_val = metadata.iloc[val_indexes]\n",
    "actions_train = all_actions[train_indexes]\n",
    "actions_val = all_actions[val_indexes]\n",
    "\n",
    "\n",
    "penal_amounts = [i/100. for i in range(-1, 15, 1)]\n",
    "results = Parallel(n_jobs=len(penal_amounts)+1)(\n",
    "    delayed(run_penalty_experiment)(\n",
    "        args.n_models,\n",
    "        penal_amount, \n",
    "        fixed_num_features,\n",
    "        X_train, X_val, metadata_train, metadata_val, actions_train, actions_val,\n",
    "        data_dir, args, model_type, AIClinicianModel, DuelingDQNModel,\n",
    "        n_action_bins, action_bins, action_medians, \n",
    "        feature_weights, build_complete_record_sequences,\n",
    "        evaluate_physician_policy_td, evaluate_policy_wis,\n",
    "        train_ids, val_ids\n",
    "    )\n",
    "    for penal_amount in penal_amounts)\n"
   ]
  }
 ],
 "metadata": {
  "kernelspec": {
   "display_name": "Python 3 (ipykernel)",
   "language": "python",
   "name": "python3"
  },
  "language_info": {
   "codemirror_mode": {
    "name": "ipython",
    "version": 3
   },
   "file_extension": ".py",
   "mimetype": "text/x-python",
   "name": "python",
   "nbconvert_exporter": "python",
   "pygments_lexer": "ipython3",
   "version": "3.11.10"
  }
 },
 "nbformat": 4,
 "nbformat_minor": 5
}
